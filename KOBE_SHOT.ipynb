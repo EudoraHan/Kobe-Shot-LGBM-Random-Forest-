{
  "nbformat": 4,
  "nbformat_minor": 0,
  "metadata": {
    "colab": {
      "name": "KOBE SHOT.ipynb",
      "version": "0.3.2",
      "provenance": [],
      "collapsed_sections": [
        "t7QPedHBnV-5"
      ],
      "include_colab_link": true
    },
    "kernelspec": {
      "name": "python3",
      "display_name": "Python 3"
    },
    "accelerator": "TPU"
  },
  "cells": [
    {
      "cell_type": "markdown",
      "metadata": {
        "id": "view-in-github",
        "colab_type": "text"
      },
      "source": [
        "<a href=\"https://colab.research.google.com/github/EudoraHan/KobeShot-LightGBM/blob/master/KOBE_SHOT.ipynb\" target=\"_parent\"><img src=\"https://colab.research.google.com/assets/colab-badge.svg\" alt=\"Open In Colab\"/></a>"
      ]
    },
    {
      "cell_type": "markdown",
      "metadata": {
        "id": "reIuocgQkmj4",
        "colab_type": "text"
      },
      "source": [
        "# Kobe Shot Evaluation and Prediction\n",
        "\n",
        "\n",
        "### Yun Han  7/18/2019"
      ]
    },
    {
      "cell_type": "markdown",
      "metadata": {
        "id": "lqTjduXOqtpl",
        "colab_type": "text"
      },
      "source": [
        "### In this project, we use random forest, LGBM and GBDT model to evaluate and predict Kobe shot dataset."
      ]
    },
    {
      "cell_type": "code",
      "metadata": {
        "id": "szAxuCPEo7xJ",
        "colab_type": "code",
        "outputId": "3d29ef7f-28f6-4e35-fec9-86c7bf242628",
        "colab": {
          "resources": {
            "http://localhost:8080/nbextensions/google.colab/files.js": {
              "data": "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",
              "ok": true,
              "headers": [
                [
                  "content-type",
                  "application/javascript"
                ]
              ],
              "status": 200,
              "status_text": ""
            }
          },
          "base_uri": "https://localhost:8080/",
          "height": 71
        }
      },
      "source": [
        "from google.colab import files\n",
        "uploaded = files.upload()"
      ],
      "execution_count": 5,
      "outputs": [
        {
          "output_type": "display_data",
          "data": {
            "text/html": [
              "\n",
              "     <input type=\"file\" id=\"files-a4660a74-bcb3-4549-9f3c-3c6920678482\" name=\"files[]\" multiple disabled />\n",
              "     <output id=\"result-a4660a74-bcb3-4549-9f3c-3c6920678482\">\n",
              "      Upload widget is only available when the cell has been executed in the\n",
              "      current browser session. Please rerun this cell to enable.\n",
              "      </output>\n",
              "      <script src=\"/nbextensions/google.colab/files.js\"></script> "
            ],
            "text/plain": [
              "<IPython.core.display.HTML object>"
            ]
          },
          "metadata": {
            "tags": []
          }
        },
        {
          "output_type": "stream",
          "text": [
            "Saving kobe_shot.csv to kobe_shot.csv\n"
          ],
          "name": "stdout"
        }
      ]
    },
    {
      "cell_type": "code",
      "metadata": {
        "id": "RcsY4PeJpHmv",
        "colab_type": "code",
        "colab": {}
      },
      "source": [
        "# Importing the libraries\n",
        "import numpy as np\n",
        "import matplotlib.pyplot as plt\n",
        "import pandas as pd\n",
        "import seaborn as sns\n",
        "import io"
      ],
      "execution_count": 0,
      "outputs": []
    },
    {
      "cell_type": "markdown",
      "metadata": {
        "id": "1lvQv_MRrSam",
        "colab_type": "text"
      },
      "source": [
        "## Part 1: Data Exploration"
      ]
    },
    {
      "cell_type": "code",
      "metadata": {
        "id": "fuclklBgqvgN",
        "colab_type": "code",
        "outputId": "f57762b6-d4a5-4c31-8749-f5e6e2e5d344",
        "colab": {
          "base_uri": "https://localhost:8080/",
          "height": 411
        }
      },
      "source": [
        "# 1.1 Read data:\n",
        "data = pd.read_csv('kobe_shot.csv')\n",
        "print(data.shape) # (30697, 25)\n",
        "data.head()"
      ],
      "execution_count": 48,
      "outputs": [
        {
          "output_type": "stream",
          "text": [
            "(30697, 25)\n"
          ],
          "name": "stdout"
        },
        {
          "output_type": "execute_result",
          "data": {
            "text/html": [
              "<div>\n",
              "<style scoped>\n",
              "    .dataframe tbody tr th:only-of-type {\n",
              "        vertical-align: middle;\n",
              "    }\n",
              "\n",
              "    .dataframe tbody tr th {\n",
              "        vertical-align: top;\n",
              "    }\n",
              "\n",
              "    .dataframe thead th {\n",
              "        text-align: right;\n",
              "    }\n",
              "</style>\n",
              "<table border=\"1\" class=\"dataframe\">\n",
              "  <thead>\n",
              "    <tr style=\"text-align: right;\">\n",
              "      <th></th>\n",
              "      <th>action_type</th>\n",
              "      <th>combined_shot_type</th>\n",
              "      <th>game_event_id</th>\n",
              "      <th>game_id</th>\n",
              "      <th>lat</th>\n",
              "      <th>loc_x</th>\n",
              "      <th>loc_y</th>\n",
              "      <th>lon</th>\n",
              "      <th>minutes_remaining</th>\n",
              "      <th>period</th>\n",
              "      <th>playoffs</th>\n",
              "      <th>season</th>\n",
              "      <th>seconds_remaining</th>\n",
              "      <th>shot_distance</th>\n",
              "      <th>shot_made_flag</th>\n",
              "      <th>shot_type</th>\n",
              "      <th>shot_zone_area</th>\n",
              "      <th>shot_zone_basic</th>\n",
              "      <th>shot_zone_range</th>\n",
              "      <th>team_id</th>\n",
              "      <th>team_name</th>\n",
              "      <th>game_date</th>\n",
              "      <th>matchup</th>\n",
              "      <th>opponent</th>\n",
              "      <th>shot_id</th>\n",
              "    </tr>\n",
              "  </thead>\n",
              "  <tbody>\n",
              "    <tr>\n",
              "      <th>0</th>\n",
              "      <td>Jump Shot</td>\n",
              "      <td>Jump Shot</td>\n",
              "      <td>10</td>\n",
              "      <td>20000012</td>\n",
              "      <td>33.9723</td>\n",
              "      <td>167</td>\n",
              "      <td>72</td>\n",
              "      <td>-118.1028</td>\n",
              "      <td>10</td>\n",
              "      <td>1</td>\n",
              "      <td>0</td>\n",
              "      <td>2000-01</td>\n",
              "      <td>27</td>\n",
              "      <td>18</td>\n",
              "      <td>NaN</td>\n",
              "      <td>2PT Field Goal</td>\n",
              "      <td>Right Side(R)</td>\n",
              "      <td>Mid-Range</td>\n",
              "      <td>16-24 ft.</td>\n",
              "      <td>1610612747</td>\n",
              "      <td>Los Angeles Lakers</td>\n",
              "      <td>31/10/00</td>\n",
              "      <td>LAL @ POR</td>\n",
              "      <td>POR</td>\n",
              "      <td>1</td>\n",
              "    </tr>\n",
              "    <tr>\n",
              "      <th>1</th>\n",
              "      <td>Jump Shot</td>\n",
              "      <td>Jump Shot</td>\n",
              "      <td>12</td>\n",
              "      <td>20000012</td>\n",
              "      <td>34.0443</td>\n",
              "      <td>-157</td>\n",
              "      <td>0</td>\n",
              "      <td>-118.4268</td>\n",
              "      <td>10</td>\n",
              "      <td>1</td>\n",
              "      <td>0</td>\n",
              "      <td>2000-01</td>\n",
              "      <td>22</td>\n",
              "      <td>15</td>\n",
              "      <td>0.0</td>\n",
              "      <td>2PT Field Goal</td>\n",
              "      <td>Left Side(L)</td>\n",
              "      <td>Mid-Range</td>\n",
              "      <td>8-16 ft.</td>\n",
              "      <td>1610612747</td>\n",
              "      <td>Los Angeles Lakers</td>\n",
              "      <td>31/10/00</td>\n",
              "      <td>LAL @ POR</td>\n",
              "      <td>POR</td>\n",
              "      <td>2</td>\n",
              "    </tr>\n",
              "    <tr>\n",
              "      <th>2</th>\n",
              "      <td>Jump Shot</td>\n",
              "      <td>Jump Shot</td>\n",
              "      <td>35</td>\n",
              "      <td>20000012</td>\n",
              "      <td>33.9093</td>\n",
              "      <td>-101</td>\n",
              "      <td>135</td>\n",
              "      <td>-118.3708</td>\n",
              "      <td>7</td>\n",
              "      <td>1</td>\n",
              "      <td>0</td>\n",
              "      <td>2000-01</td>\n",
              "      <td>45</td>\n",
              "      <td>16</td>\n",
              "      <td>1.0</td>\n",
              "      <td>2PT Field Goal</td>\n",
              "      <td>Left Side Center(LC)</td>\n",
              "      <td>Mid-Range</td>\n",
              "      <td>16-24 ft.</td>\n",
              "      <td>1610612747</td>\n",
              "      <td>Los Angeles Lakers</td>\n",
              "      <td>31/10/00</td>\n",
              "      <td>LAL @ POR</td>\n",
              "      <td>POR</td>\n",
              "      <td>3</td>\n",
              "    </tr>\n",
              "    <tr>\n",
              "      <th>3</th>\n",
              "      <td>Jump Shot</td>\n",
              "      <td>Jump Shot</td>\n",
              "      <td>43</td>\n",
              "      <td>20000012</td>\n",
              "      <td>33.8693</td>\n",
              "      <td>138</td>\n",
              "      <td>175</td>\n",
              "      <td>-118.1318</td>\n",
              "      <td>6</td>\n",
              "      <td>1</td>\n",
              "      <td>0</td>\n",
              "      <td>2000-01</td>\n",
              "      <td>52</td>\n",
              "      <td>22</td>\n",
              "      <td>0.0</td>\n",
              "      <td>2PT Field Goal</td>\n",
              "      <td>Right Side Center(RC)</td>\n",
              "      <td>Mid-Range</td>\n",
              "      <td>16-24 ft.</td>\n",
              "      <td>1610612747</td>\n",
              "      <td>Los Angeles Lakers</td>\n",
              "      <td>31/10/00</td>\n",
              "      <td>LAL @ POR</td>\n",
              "      <td>POR</td>\n",
              "      <td>4</td>\n",
              "    </tr>\n",
              "    <tr>\n",
              "      <th>4</th>\n",
              "      <td>Driving Dunk Shot</td>\n",
              "      <td>Dunk</td>\n",
              "      <td>155</td>\n",
              "      <td>20000012</td>\n",
              "      <td>34.0443</td>\n",
              "      <td>0</td>\n",
              "      <td>0</td>\n",
              "      <td>-118.2698</td>\n",
              "      <td>6</td>\n",
              "      <td>2</td>\n",
              "      <td>0</td>\n",
              "      <td>2000-01</td>\n",
              "      <td>19</td>\n",
              "      <td>0</td>\n",
              "      <td>1.0</td>\n",
              "      <td>2PT Field Goal</td>\n",
              "      <td>Center(C)</td>\n",
              "      <td>Restricted Area</td>\n",
              "      <td>Less Than 8 ft.</td>\n",
              "      <td>1610612747</td>\n",
              "      <td>Los Angeles Lakers</td>\n",
              "      <td>31/10/00</td>\n",
              "      <td>LAL @ POR</td>\n",
              "      <td>POR</td>\n",
              "      <td>5</td>\n",
              "    </tr>\n",
              "  </tbody>\n",
              "</table>\n",
              "</div>"
            ],
            "text/plain": [
              "         action_type combined_shot_type  ...  opponent  shot_id\n",
              "0          Jump Shot          Jump Shot  ...       POR        1\n",
              "1          Jump Shot          Jump Shot  ...       POR        2\n",
              "2          Jump Shot          Jump Shot  ...       POR        3\n",
              "3          Jump Shot          Jump Shot  ...       POR        4\n",
              "4  Driving Dunk Shot               Dunk  ...       POR        5\n",
              "\n",
              "[5 rows x 25 columns]"
            ]
          },
          "metadata": {
            "tags": []
          },
          "execution_count": 48
        }
      ]
    },
    {
      "cell_type": "code",
      "metadata": {
        "id": "wD58t6OHrB86",
        "colab_type": "code",
        "outputId": "0852b023-39ec-4164-c09d-cdec50122c49",
        "colab": {
          "base_uri": "https://localhost:8080/",
          "height": 34
        }
      },
      "source": [
        "# 1.2: Variable Selection\n",
        "# 1. Remove the row without target variable: shot_made_flag\n",
        "data = data[pd.notnull(data['shot_made_flag'])]\n",
        "data.shape # (25697, 25)"
      ],
      "execution_count": 49,
      "outputs": [
        {
          "output_type": "execute_result",
          "data": {
            "text/plain": [
              "(25697, 25)"
            ]
          },
          "metadata": {
            "tags": []
          },
          "execution_count": 49
        }
      ]
    },
    {
      "cell_type": "code",
      "metadata": {
        "id": "OXr-IRYGq27S",
        "colab_type": "code",
        "outputId": "0f65f7ed-db6b-401b-88f7-877f968d90aa",
        "colab": {
          "base_uri": "https://localhost:8080/",
          "height": 301
        }
      },
      "source": [
        "# 2. Compare the variable lat,lon & loc_x,loc_y. \n",
        "### Histogram\n",
        "sns.distplot(data['loc_y'])"
      ],
      "execution_count": 50,
      "outputs": [
        {
          "output_type": "execute_result",
          "data": {
            "text/plain": [
              "<matplotlib.axes._subplots.AxesSubplot at 0x7fad94aea240>"
            ]
          },
          "metadata": {
            "tags": []
          },
          "execution_count": 50
        },
        {
          "output_type": "display_data",
          "data": {
            "image/png": "[encoded data removed]",
            "text/plain": [
              "<Figure size 432x288 with 1 Axes>"
            ]
          },
          "metadata": {
            "tags": []
          }
        }
      ]
    },
    {
      "cell_type": "code",
      "metadata": {
        "id": "_Y2NzRQzrD6u",
        "colab_type": "code",
        "outputId": "d2dfb4b0-cb8a-458d-91fa-04589a26eb69",
        "colab": {
          "base_uri": "https://localhost:8080/",
          "height": 300
        }
      },
      "source": [
        "sns.distplot(data['lat'])"
      ],
      "execution_count": 51,
      "outputs": [
        {
          "output_type": "execute_result",
          "data": {
            "text/plain": [
              "<matplotlib.axes._subplots.AxesSubplot at 0x7fad94a65da0>"
            ]
          },
          "metadata": {
            "tags": []
          },
          "execution_count": 51
        },
        {
          "output_type": "display_data",
          "data": {
            "image/png": "[encoded data removed]",
            "text/plain": [
              "<Figure size 432x288 with 1 Axes>"
            ]
          },
          "metadata": {
            "tags": []
          }
        }
      ]
    },
    {
      "cell_type": "code",
      "metadata": {
        "id": "iLChtWmRrEDv",
        "colab_type": "code",
        "outputId": "a3bc0f43-1a5a-45dd-ec27-c78b19d78b41",
        "colab": {
          "base_uri": "https://localhost:8080/",
          "height": 624
        }
      },
      "source": [
        "### Distribution Plot\n",
        "plt.figure(figsize = (10,10))\n",
        " \n",
        "plt.subplot(1,2,1)\n",
        "plt.scatter(data.loc_x,data.loc_y,color ='r',alpha = 0.05)\n",
        "plt.title('loc_x and loc_y')\n",
        " \n",
        "plt.subplot(1,2,2)\n",
        "plt.scatter(data.lon,data.lat,color ='b',alpha = 0.05)\n",
        "plt.title('lat and lon')"
      ],
      "execution_count": 52,
      "outputs": [
        {
          "output_type": "execute_result",
          "data": {
            "text/plain": [
              "Text(0.5, 1.0, 'lat and lon')"
            ]
          },
          "metadata": {
            "tags": []
          },
          "execution_count": 52
        },
        {
          "output_type": "display_data",
          "data": {
            "image/png": "[encoded data removed]",
            "text/plain": [
              "<Figure size 720x720 with 2 Axes>"
            ]
          },
          "metadata": {
            "tags": []
          }
        }
      ]
    },
    {
      "cell_type": "code",
      "metadata": {
        "id": "W_UCy4QIrEGb",
        "colab_type": "code",
        "outputId": "2cf3ad2b-146c-4bee-c8b8-43cad8fa6745",
        "colab": {
          "base_uri": "https://localhost:8080/",
          "height": 287
        }
      },
      "source": [
        "### Correlations Matrix and heatmap\n",
        "corr = data[[\"lat\", \"lon\", \"loc_x\", \"loc_y\"]].corr()\n",
        "sns.heatmap(corr)"
      ],
      "execution_count": 53,
      "outputs": [
        {
          "output_type": "execute_result",
          "data": {
            "text/plain": [
              "<matplotlib.axes._subplots.AxesSubplot at 0x7fad94988dd8>"
            ]
          },
          "metadata": {
            "tags": []
          },
          "execution_count": 53
        },
        {
          "output_type": "display_data",
          "data": {
            "image/png": "[encoded data removed]",
            "text/plain": [
              "<Figure size 432x288 with 2 Axes>"
            ]
          },
          "metadata": {
            "tags": []
          }
        }
      ]
    },
    {
      "cell_type": "markdown",
      "metadata": {
        "id": "wzIP14acmJ0-",
        "colab_type": "text"
      },
      "source": [
        "#### Both the distribution plot and the correlation matrix showed that the lat,lon & loc_x,loc_y represent the same position. We can delete one of them.\n",
        "\n"
      ]
    },
    {
      "cell_type": "code",
      "metadata": {
        "id": "HlSV-Jy3rEI9",
        "colab_type": "code",
        "colab": {}
      },
      "source": [
        "# 3. Time remain: \n",
        "\"\"\"\n",
        "The variable 'minutes_remaining' and 'seconds_remaining' contain the same information，\n",
        "we can combine the two variable together.\n",
        "\n",
        "\"\"\"\n",
        "data['remain_time'] = data['minutes_remaining'] * 60 + data['seconds_remaining']\n"
      ],
      "execution_count": 0,
      "outputs": []
    },
    {
      "cell_type": "code",
      "metadata": {
        "id": "8wi2t67xrELn",
        "colab_type": "code",
        "outputId": "c0f4bf72-b578-4ad6-9e3e-477c66cbf7c3",
        "colab": {
          "base_uri": "https://localhost:8080/",
          "height": 80
        }
      },
      "source": [
        "# 4. shot_distance and shot_zone_range\n",
        "corr = data[[\"shot_distance\", \"shot_zone_range\"]].corr()\n",
        "corr"
      ],
      "execution_count": 55,
      "outputs": [
        {
          "output_type": "execute_result",
          "data": {
            "text/html": [
              "<div>\n",
              "<style scoped>\n",
              "    .dataframe tbody tr th:only-of-type {\n",
              "        vertical-align: middle;\n",
              "    }\n",
              "\n",
              "    .dataframe tbody tr th {\n",
              "        vertical-align: top;\n",
              "    }\n",
              "\n",
              "    .dataframe thead th {\n",
              "        text-align: right;\n",
              "    }\n",
              "</style>\n",
              "<table border=\"1\" class=\"dataframe\">\n",
              "  <thead>\n",
              "    <tr style=\"text-align: right;\">\n",
              "      <th></th>\n",
              "      <th>shot_distance</th>\n",
              "    </tr>\n",
              "  </thead>\n",
              "  <tbody>\n",
              "    <tr>\n",
              "      <th>shot_distance</th>\n",
              "      <td>1.0</td>\n",
              "    </tr>\n",
              "  </tbody>\n",
              "</table>\n",
              "</div>"
            ],
            "text/plain": [
              "               shot_distance\n",
              "shot_distance            1.0"
            ]
          },
          "metadata": {
            "tags": []
          },
          "execution_count": 55
        }
      ]
    },
    {
      "cell_type": "markdown",
      "metadata": {
        "id": "NkgJ_sjmm9PZ",
        "colab_type": "text"
      },
      "source": [
        "#### The correlation between shot distance and shot zone range are 1, we can delete one of them."
      ]
    },
    {
      "cell_type": "markdown",
      "metadata": {
        "id": "IpiQrENWnJ31",
        "colab_type": "text"
      },
      "source": [
        "## Part 2:  Feature Preprocessing"
      ]
    },
    {
      "cell_type": "code",
      "metadata": {
        "id": "75ZZXNtzrEOC",
        "colab_type": "code",
        "colab": {}
      },
      "source": [
        "# Delete the duplicated variable:\n",
        "data = data.drop(['lat','lon','minutes_remaining', 'seconds_remaining','matchup',\n",
        "                  'shot_id', 'team_id','team_name', 'shot_zone_range','game_date'], axis = 1)\n"
      ],
      "execution_count": 0,
      "outputs": []
    },
    {
      "cell_type": "markdown",
      "metadata": {
        "id": "t7QPedHBnV-5",
        "colab_type": "text"
      },
      "source": [
        "### Input our auto data preprocessing function."
      ]
    },
    {
      "cell_type": "code",
      "metadata": {
        "id": "aahESccxrEQd",
        "colab_type": "code",
        "colab": {}
      },
      "source": [
        "\"\"\"\n",
        "Created on Wed Jul 17 13:42:10 2019\n",
        "@author: Yun Han\n",
        "\n",
        "\n",
        "Automatic Datapreprocessing Function\n",
        "1. Data format \n",
        "2. Missing Value\n",
        "3. Outlier Dectect\n",
        "\n",
        "\n",
        "\"\"\"\n",
        "\n",
        "### Data Preprocessing\n",
        "\n",
        "### Importing the libraries\n",
        "import numpy as np\n",
        "import matplotlib.pyplot as plt\n",
        "import pandas as pd\n",
        "\n",
        "\"\"\"\n",
        "Part 1. Data formatting\n",
        "\n",
        "\"\"\"\n",
        "\n",
        "## Label Encoding for String\n",
        "from sklearn.preprocessing import LabelEncoder\n",
        "\n",
        "def labelencode(data):\n",
        "    labelencoder_X = LabelEncoder()\n",
        "    data = labelencoder_X.fit_transform(data)\n",
        "    integer_mapping = {l: i for i, l in enumerate(labelencoder_X.classes_)}\n",
        "    \n",
        "    return data, integer_mapping\n",
        "\n",
        "\"\"\"\n",
        "Part 2. Use different method to deal with missing value\n",
        "\n",
        "\"\"\"\n",
        "# =============================================================================\n",
        "# ### Detect missing value\n",
        "# df.info() # the overview information for the dataframe\n",
        "# df.describe() # basic stats\n",
        "# df.isnull().sum() # the number of rows with NaN for each column\n",
        "# df.notnull().sum() # the number of rows without NaN for each column\n",
        "# \n",
        "# =============================================================================\n",
        "\n",
        "\n",
        "def missing_value(data, method):\n",
        "    if method == 'delete':\n",
        "        return data.dropna(inplace=True)\n",
        "    \n",
        "    elif method == '0 impute':\n",
        "        return data.fillna(0, inplace=True) \n",
        "    \n",
        "    elif method == 'mean':\n",
        "        return data.fillna(data.mean(), inplace=True)\n",
        "    \n",
        "    elif method == 'median':\n",
        "        return data.fillna(data.median(), inplace=True)\n",
        "    \n",
        "    elif method == 'ffill':\n",
        "        return data.fillna(method='ffill', inplace = True)\n",
        "    \n",
        "    elif method == 'bfill':\n",
        "        return data.fillna(method='bfill', inplace = True)\n",
        "    \n",
        "    elif method == 'interpolation':\n",
        "        return data.interpolate()\n",
        "\n",
        "# =============================================================================\n",
        "# ### KNN for imputation\n",
        "#         \n",
        "# from sklearn.neighbors import KNeighborsClassifier\n",
        "# # construct X matrix\n",
        "# X = df.iloc[:, :-1].values\n",
        "# column_new = ['RevolvingUtilizationOfUnsecuredLines', 'age', \n",
        "#               'NumberOfTime30-59DaysPastDueNotWorse', 'DebtRatio', \n",
        "#               'MonthlyIncome', 'NumberOfOpenCreditLinesAndLoans', 'NumberOfTimes90DaysLate', \n",
        "#               'NumberRealEstateLoansOrLines', 'NumberOfTime60-89DaysPastDueNotWorse', \n",
        "#               'NumberOfDependents']\n",
        "# X = pd.DataFrame(data=X, columns = column_new)\n",
        "# \n",
        "# # select the rows with missing values as testing data\n",
        "# idx_with_nan = X.age.isnull()\n",
        "# X_with_nan = X[idx_with_nan]\n",
        "# \n",
        "# # select the rows without missing values as training data\n",
        "# X_no_nan = X[-idx_with_nan]\n",
        "# \n",
        "# # drop name column, set age as target variable and train the model, \n",
        "# clf = KNeighborsClassifier(3, weights='distance')\n",
        "# clf.fit(X_no_nan[['RevolvingUtilizationOfUnsecuredLines',\n",
        "#                   'NumberOfTime30-59DaysPastDueNotWorse', \n",
        "#                   'NumberOfOpenCreditLinesAndLoans', \n",
        "#                   'NumberOfTimes90DaysLate', \n",
        "#                   'NumberRealEstateLoansOrLines', \n",
        "#                   'NumberOfTime60-89DaysPastDueNotWorse']], X_no_nan['age'])\n",
        "# \n",
        "# # impute the NA value\n",
        "# x_imputed = clf.predict(X_with_nan[['RevolvingUtilizationOfUnsecuredLines',\n",
        "#                   'NumberOfTime30-59DaysPastDueNotWorse', \n",
        "#                   'NumberOfOpenCreditLinesAndLoans', \n",
        "#                   'NumberOfTimes90DaysLate', \n",
        "#                   'NumberRealEstateLoansOrLines', \n",
        "#                   'NumberOfTime60-89DaysPastDueNotWorse']])\n",
        "# X_with_imputed = X.copy()\n",
        "# X_with_imputed.loc[idx_with_nan,'age'] = x_imputed.reshape(-1)\n",
        "# \n",
        "# =============================================================================\n",
        "\n",
        "\"\"\"\n",
        "Part 3. Anomaly detection/ Outliers detection\n",
        "https://www.zhihu.com/question/38066650\n",
        "\n",
        "\"\"\"\n",
        "\n",
        "# =============================================================================\n",
        "# ### Handle Outliers\n",
        "# import seaborn as sns\n",
        "# \n",
        "# # Simulate data\n",
        "# sns.set_style('whitegrid')\n",
        "# sns.distplot(df.DebtRatio)\n",
        "# sns.distplot(df.MonthlyIncome)\n",
        "# sns.boxplot(df.age,orient='v')\n",
        "# \n",
        "# \n",
        "# =============================================================================\n",
        "\n",
        "##### auto function for outlier\n",
        "\n",
        "from scipy.stats import skew\n",
        "    \n",
        "# 1. Numeric Outlier: define a function remove outlier using IQR: one dimension\n",
        "def iqr_outlier(data):\n",
        "    lq,uq=np.percentile(data,[25,75])\n",
        "    lower_l=lq - 1.5*(uq-lq)\n",
        "    upper_l=uq + 1.5*(uq-lq)\n",
        "    \n",
        "    # calculate the ratio of outliers\n",
        "    ratio = (len(data[(data > upper_l)])+len(data[(data < lower_l)]))/len(data)\n",
        "    # if ratio is large, we might replace the outlier with boundary value.\n",
        "    if ratio > 0.1:\n",
        "        \n",
        "        return data\n",
        "    \n",
        "    elif ratio > 0.05:\n",
        "        data[data < lower_l] = lower_l\n",
        "        data[data > upper_l] = upper_l\n",
        "        print (\"%d upper is:\", upper_l)\n",
        "        print (data,\"lower is:\", lower_l)\n",
        "        return data\n",
        "        \n",
        "    else:\n",
        "        return data[(data >=lower_l)&(data<=upper_l)]\n",
        "    \n",
        "    \n",
        "# 2. Z-score：one dimension or low dimension\n",
        "def z_score_outlier(data):\n",
        "    \n",
        "    threshold=3\n",
        "    mean_y = np.mean(data)\n",
        "    stdev_y = np.std(data)\n",
        "    z_scores = [(y - mean_y) / stdev_y for y in data]\n",
        "    \n",
        "    return data[np.abs(z_scores) < threshold]\n",
        "\n",
        "\"\"\"\n",
        "Auto function for outlier： \n",
        "combine the first two function\n",
        "\n",
        "\"\"\"\n",
        "\n",
        "def outlier(data):\n",
        "    skewness = skew(data)    \n",
        "    if skewness > 1:\n",
        "        remove_outlier = iqr_outlier(data)\n",
        "        \n",
        "    else:\n",
        "        remove_outlier = z_score_outlier(data)\n",
        "    \n",
        "    return remove_outlier\n",
        "\n",
        "# =============================================================================\n",
        "# ### Isolation Forest: one dimension or high dimension） \n",
        "#     \n",
        "# # https://zhuanlan.zhihu.com/p/27777266\n",
        "#     \n",
        "# from sklearn.ensemble import IsolationForest\n",
        "# import pandas as pd\n",
        "# \n",
        "# \n",
        "# clf = IsolationForest(max_samples=100, random_state=42)\n",
        "# clf.fit(train)\n",
        "# y_pred = clf.predict(train)\n",
        "# y_pred = [1 if x == -1 else 0 for x in y_pred]\n",
        "# y_pred.count(0) # 94714\n",
        "# y_pred.count(1) # 10524  \n",
        "# \n",
        "# \n",
        "# =============================================================================\n",
        "\n",
        "\n",
        "\"\"\"\n",
        "Part 4. Auto Datapreprocessing Function \n",
        "1. a single variable\n",
        "2. Whole dataset\n",
        "\n",
        "\"\"\"\n",
        "# For a single variable\n",
        "\n",
        "def preprocessing(i, data, type, method):    \n",
        "    \n",
        "    \n",
        "    if type == 'numeric':    \n",
        "        if data[i].dtype == 'O':\n",
        "            data[i] = pd.to_numeric(data[i], errors='coerce')\n",
        "            \n",
        "        missing_value(data[i], method)\n",
        "        clean_data = outlier(data[i])        \n",
        "        return clean_data\n",
        "    \n",
        "    elif type == 'categorical':\n",
        "        missing_value(data[i], method)\n",
        "        pre_index = data[i].index\n",
        "        \n",
        "        if data[i].dtype == 'O':\n",
        "            data, dictionary = labelencode(data[i])        \n",
        "            data = pd.Series(data, name = i)\n",
        "            data.index = pre_index\n",
        "            clean_data = outlier(data)    \n",
        "        else:\n",
        "            clean_data = outlier(data[i])  \n",
        "        return clean_data\n",
        "\n",
        "\n",
        "# For a whole dataset\n",
        "\n",
        "def clean_all(df, categorical, method_cate, method_numeric):    \n",
        "    for i in df.columns:\n",
        "        if i not in categorical: \n",
        "            clean = preprocessing(i, df, 'numeric', method_numeric)\n",
        "            if len(clean) < len(df):\n",
        "                df = pd.merge(clean, df, left_index=True,right_index=True, how='left',suffixes=('_x', '_delete')) # left_on, right_on\n",
        "            else:\n",
        "                df = pd.merge(clean, df, left_index=True,right_index=True, how='right',suffixes=('_x', '_delete')) # left_on, right_on\n",
        "      \n",
        "        else:\n",
        "            clean = preprocessing(i, df, 'categorical', method_cate)\n",
        "            if len(clean) < len(df):\n",
        "                df = pd.merge(clean, df, left_index=True,right_index=True, how='left',suffixes=('_x', '_delete')) # left_on, right_on\n",
        "            else:\n",
        "                df = pd.merge(clean, df, left_index=True,right_index=True, how='right',suffixes=('_x', '_delete')) # left_on, right_on\n",
        "    \n",
        "    for name in df.columns:\n",
        "        if \"_delete\"  in name:\n",
        "            df = df.drop([name], axis=1)\n",
        "    \n",
        "    return df\n",
        "\n"
      ],
      "execution_count": 0,
      "outputs": []
    },
    {
      "cell_type": "markdown",
      "metadata": {
        "id": "c_c5y_TGXvZx",
        "colab_type": "text"
      },
      "source": [
        "### Use auto-data preprocessing function "
      ]
    },
    {
      "cell_type": "code",
      "metadata": {
        "id": "jkAnvtQnnjmA",
        "colab_type": "code",
        "colab": {}
      },
      "source": [
        "# Use auto-data preprocessing fucntion\n",
        "cat = ['action_type', 'combined_shot_type', 'period', 'playoffs','season', 'shot_made_flag',\n",
        "       'shot_type', 'shot_zone_area', 'shot_zone_basic', 'opponent']        \n",
        "after_Clean = clean_all(data, cat, 'delete', 'median')        \n"
      ],
      "execution_count": 0,
      "outputs": []
    },
    {
      "cell_type": "code",
      "metadata": {
        "id": "-P1Cl3b3njxg",
        "colab_type": "code",
        "outputId": "1c96e0aa-68af-4fa9-e8ce-81897698a7cc",
        "colab": {
          "base_uri": "https://localhost:8080/",
          "height": 389
        }
      },
      "source": [
        "corr = after_Clean[['loc_x_x', 'loc_y_x','action_type_x', 'combined_shot_type_x', 'period_x', 'playoffs_x',\n",
        "             'season_x', 'shot_made_flag_x','shot_type_x', 'shot_zone_area_x', 'shot_zone_basic_x',\n",
        "             'opponent_x','game_event_id_x','game_id_x','shot_distance_x', 'remain_time_x']].corr()\n",
        "sns.heatmap(corr)\n"
      ],
      "execution_count": 20,
      "outputs": [
        {
          "output_type": "execute_result",
          "data": {
            "text/plain": [
              "<matplotlib.axes._subplots.AxesSubplot at 0x7fad952011d0>"
            ]
          },
          "metadata": {
            "tags": []
          },
          "execution_count": 20
        },
        {
          "output_type": "display_data",
          "data": {
            "image/png": "[encoded data removed]",
            "text/plain": [
              "<Figure size 432x288 with 2 Axes>"
            ]
          },
          "metadata": {
            "tags": []
          }
        }
      ]
    },
    {
      "cell_type": "markdown",
      "metadata": {
        "id": "5wtGUpcvnrXd",
        "colab_type": "text"
      },
      "source": [
        "#### From the correlation matrix, we find that the correlation between shot_distance and loc_y is 0.79, game_event_id and period is 0.96, game_id and playoffs is 0.92, hence, we can delete one of each pair.\n"
      ]
    },
    {
      "cell_type": "code",
      "metadata": {
        "id": "iU3xrSgRnj09",
        "colab_type": "code",
        "colab": {}
      },
      "source": [
        "# Delete the high correlation variable: shot_distance, game_event_id,game_id\n",
        "shot = after_Clean.drop(['shot_distance_x','game_event_id_x','game_id_x'], axis = 1)\n"
      ],
      "execution_count": 0,
      "outputs": []
    },
    {
      "cell_type": "markdown",
      "metadata": {
        "id": "EKbIezhHnzaY",
        "colab_type": "text"
      },
      "source": [
        "## Part 3: Model Training --- Random Forest"
      ]
    },
    {
      "cell_type": "code",
      "metadata": {
        "id": "FyQ-5pv-nj4z",
        "colab_type": "code",
        "colab": {}
      },
      "source": [
        "X = shot.drop(['shot_made_flag_x'], axis = 1)\n",
        "y = shot.iloc[:, 5].values"
      ],
      "execution_count": 0,
      "outputs": []
    },
    {
      "cell_type": "code",
      "metadata": {
        "id": "OzGPwkaSnj-p",
        "colab_type": "code",
        "outputId": "5f291408-5840-4f62-ae9f-e63ec39da39b",
        "colab": {
          "base_uri": "https://localhost:8080/",
          "height": 139
        }
      },
      "source": [
        "# One HotEncoder: Encoding categorical data\n",
        "# Encoding the Independent Variable\n",
        "from sklearn.preprocessing import LabelEncoder, OneHotEncoder\n",
        "onehotencoder = OneHotEncoder(categorical_features = [1,2,3,5,7,10,11])\n",
        "X = onehotencoder.fit_transform(X).toarray()\n"
      ],
      "execution_count": 23,
      "outputs": [
        {
          "output_type": "stream",
          "text": [
            "/usr/local/lib/python3.6/dist-packages/sklearn/preprocessing/_encoders.py:415: FutureWarning: The handling of integer data will change in version 0.22. Currently, the categories are determined based on the range [0, max(values)], while in the future they will be determined based on the unique values.\n",
            "If you want the future behaviour and silence this warning, you can specify \"categories='auto'\".\n",
            "In case you used a LabelEncoder before this OneHotEncoder to convert the categories to integers, then you can now use the OneHotEncoder directly.\n",
            "  warnings.warn(msg, FutureWarning)\n",
            "/usr/local/lib/python3.6/dist-packages/sklearn/preprocessing/_encoders.py:451: DeprecationWarning: The 'categorical_features' keyword is deprecated in version 0.20 and will be removed in 0.22. You can use the ColumnTransformer instead.\n",
            "  \"use the ColumnTransformer instead.\", DeprecationWarning)\n"
          ],
          "name": "stderr"
        }
      ]
    },
    {
      "cell_type": "markdown",
      "metadata": {
        "id": "Vjvf9J6VqYw_",
        "colab_type": "text"
      },
      "source": [
        "### Part 3.1: Split dataset"
      ]
    },
    {
      "cell_type": "code",
      "metadata": {
        "id": "nB5x3qo1n_Q2",
        "colab_type": "code",
        "colab": {}
      },
      "source": [
        "# 3.1: Split dataset\n",
        "# Splite data into training and testing\n",
        "from sklearn import model_selection\n",
        "# Reserve 20% for testing\n",
        "X_train, X_test, y_train, y_test = model_selection.train_test_split(X, y, test_size=0.2,random_state = 0)\n"
      ],
      "execution_count": 0,
      "outputs": []
    },
    {
      "cell_type": "markdown",
      "metadata": {
        "id": "NZdSEyh1sN5T",
        "colab_type": "text"
      },
      "source": [
        "### Part 3.2: Model Training and Selection"
      ]
    },
    {
      "cell_type": "code",
      "metadata": {
        "id": "ZzWKAMkqn_T2",
        "colab_type": "code",
        "colab": {}
      },
      "source": [
        "# 3.2: Model Training and Selection\n",
        "from sklearn.ensemble import RandomForestClassifier\n",
        "# Random Forest\n",
        "classifier_RF = RandomForestClassifier()\n"
      ],
      "execution_count": 0,
      "outputs": []
    },
    {
      "cell_type": "code",
      "metadata": {
        "id": "I14K2z9An_XN",
        "colab_type": "code",
        "outputId": "44653136-11bc-4789-e37a-4f47d82bd6ad",
        "colab": {
          "base_uri": "https://localhost:8080/",
          "height": 88
        }
      },
      "source": [
        "# Train the model\n",
        "classifier_RF.fit(X_train, y_train)\n",
        "# Prediction of test data\n",
        "classifier_RF.predict(X_test)\n"
      ],
      "execution_count": 26,
      "outputs": [
        {
          "output_type": "stream",
          "text": [
            "/usr/local/lib/python3.6/dist-packages/sklearn/ensemble/forest.py:245: FutureWarning: The default value of n_estimators will change from 10 in version 0.20 to 100 in 0.22.\n",
            "  \"10 in version 0.20 to 100 in 0.22.\", FutureWarning)\n"
          ],
          "name": "stderr"
        },
        {
          "output_type": "execute_result",
          "data": {
            "text/plain": [
              "array([0., 0., 0., ..., 0., 1., 1.])"
            ]
          },
          "metadata": {
            "tags": []
          },
          "execution_count": 26
        }
      ]
    },
    {
      "cell_type": "code",
      "metadata": {
        "id": "yjP_AwKDn_a8",
        "colab_type": "code",
        "outputId": "05e0dcb9-f311-4dbf-cb04-8293999e1a31",
        "colab": {
          "base_uri": "https://localhost:8080/",
          "height": 34
        }
      },
      "source": [
        "# Accuracy of test data\n",
        "classifier_RF.score(X_test, y_test) \n"
      ],
      "execution_count": 0,
      "outputs": [
        {
          "output_type": "execute_result",
          "data": {
            "text/plain": [
              "0.6301567656765676"
            ]
          },
          "metadata": {
            "tags": []
          },
          "execution_count": 24
        }
      ]
    },
    {
      "cell_type": "code",
      "metadata": {
        "id": "Ptv2n99Kn_fj",
        "colab_type": "code",
        "outputId": "4ac4da85-110b-4ca3-9173-57573a392b8c",
        "colab": {
          "base_uri": "https://localhost:8080/",
          "height": 34
        }
      },
      "source": [
        "# Use 5-fold Cross Validation to get the accuracy # 0.6192\n",
        "cv_score = model_selection.cross_val_score(classifier_RF, X_train, y_train, cv=5)\n",
        "print('Model accuracy of Random Forest is:',cv_score.mean())\n"
      ],
      "execution_count": 0,
      "outputs": [
        {
          "output_type": "stream",
          "text": [
            "Model accuracy of Random Forest is: 0.6267477710944356\n"
          ],
          "name": "stdout"
        }
      ]
    },
    {
      "cell_type": "markdown",
      "metadata": {
        "id": "9M8WC9pCsVPg",
        "colab_type": "text"
      },
      "source": [
        "###  Part 3.3: Use Grid Search to Find Optimal Hyperparameters"
      ]
    },
    {
      "cell_type": "code",
      "metadata": {
        "id": "Px1nMpIAn_lF",
        "colab_type": "code",
        "colab": {}
      },
      "source": [
        "# 3.3: Use Grid Search to Find Optimal Hyperparameters\n",
        "from sklearn.model_selection import GridSearchCV\n",
        "\n",
        "# helper function for printing out grid search results \n",
        "def print_grid_search_metrics(gs):\n",
        "    print (\"Best score: %0.3f\" % gs.best_score_)\n",
        "    print (\"Best parameters set:\")\n",
        "    best_parameters = gs.best_params_\n",
        "    for param_name in sorted(parameters.keys()):\n",
        "        print(\"\\t%s: %r\" % (param_name, best_parameters[param_name]))\n",
        "\n"
      ],
      "execution_count": 0,
      "outputs": []
    },
    {
      "cell_type": "code",
      "metadata": {
        "id": "p6L4xvLEoS-Y",
        "colab_type": "code",
        "outputId": "784396a0-7a63-408b-bf5c-c9a79d33515d",
        "colab": {
          "base_uri": "https://localhost:8080/",
          "height": 34
        }
      },
      "source": [
        "# Possible hyperparamter options for Random Forest\n",
        "# Choose the number of trees\n",
        "parameters = {\n",
        "    'n_estimators' : [80,90],\n",
        "    'max_features' : ['auto','sqrt','log2'],\n",
        "    'min_samples_leaf' : [1,10,50,100]\n",
        "    \n",
        "}\n",
        "\n",
        "# Use time function to measure time elapsed\n",
        "import time\n",
        "start = time.time()\n",
        "\n",
        "Grid_RF = GridSearchCV(RandomForestClassifier(),parameters, cv=5)\n",
        "Grid_RF.fit(X_train, y_train)\n",
        "\n",
        "end = time.time()\n",
        "print(end - start)"
      ],
      "execution_count": 0,
      "outputs": [
        {
          "output_type": "stream",
          "text": [
            "187.79808497428894\n"
          ],
          "name": "stdout"
        }
      ]
    },
    {
      "cell_type": "code",
      "metadata": {
        "id": "a7uFjhDioTAu",
        "colab_type": "code",
        "outputId": "fca49e94-dbdb-45ce-d6b5-26732858d339",
        "colab": {
          "base_uri": "https://localhost:8080/",
          "height": 102
        }
      },
      "source": [
        "# best number of tress\n",
        "print_grid_search_metrics(Grid_RF)\n"
      ],
      "execution_count": 0,
      "outputs": [
        {
          "output_type": "stream",
          "text": [
            "Best score: 0.668\n",
            "Best parameters set:\n",
            "\tmax_features: 'auto'\n",
            "\tmin_samples_leaf: 10\n",
            "\tn_estimators: 80\n"
          ],
          "name": "stdout"
        }
      ]
    },
    {
      "cell_type": "code",
      "metadata": {
        "id": "ZrNDsgrmoTDe",
        "colab_type": "code",
        "colab": {}
      },
      "source": [
        "# best random forest\n",
        "best_RF_model = Grid_RF.best_estimator_\n"
      ],
      "execution_count": 0,
      "outputs": []
    },
    {
      "cell_type": "markdown",
      "metadata": {
        "id": "8wHYzibPpqWZ",
        "colab_type": "text"
      },
      "source": [
        "### Part 3.4: Use Random Search to Find Optimal Hyperparameters\n"
      ]
    },
    {
      "cell_type": "code",
      "metadata": {
        "id": "4cO3h5JZoTIB",
        "colab_type": "code",
        "colab": {}
      },
      "source": [
        "# 3.4: Use Random Search to Find Optimal Hyperparameters\n",
        "from sklearn.model_selection import RandomizedSearchCV\n",
        "\n",
        "# helper function for printing out grid search results \n",
        "def print_random_search_metrics(rs):\n",
        "    print (\"Best score: %0.3f\" % rs.best_score_)\n",
        "    print (\"Best parameters set:\")\n",
        "    best_parameters = rs.best_params_\n",
        "    for param_name in sorted(parameters.keys()):\n",
        "        print(\"\\t%s: %r\" % (param_name, best_parameters[param_name]))\n",
        "\n",
        "\n"
      ],
      "execution_count": 0,
      "outputs": []
    },
    {
      "cell_type": "code",
      "metadata": {
        "id": "5kNitcVjoTKx",
        "colab_type": "code",
        "outputId": "9911e04d-516f-4606-edc6-2ef5cd154fbd",
        "colab": {
          "base_uri": "https://localhost:8080/",
          "height": 34
        }
      },
      "source": [
        "\n",
        "# Possible hyperparamter options for Random Forest\n",
        "# Choose the number of trees\n",
        "parameters = {\n",
        "    'n_estimators' : [80,90],\n",
        "    'max_features' : ['auto','sqrt','log2'],\n",
        "    'min_samples_leaf' : [1,10,50,100]\n",
        "}\n",
        "\n",
        "# Use time function to measure time elapsed\n",
        "import time\n",
        "start = time.time()\n",
        "\n",
        "Random_RF = RandomizedSearchCV(RandomForestClassifier(),parameters, cv=5)\n",
        "Random_RF.fit(X_train, y_train)\n",
        "\n",
        "end = time.time()\n",
        "print(end - start)"
      ],
      "execution_count": 29,
      "outputs": [
        {
          "output_type": "stream",
          "text": [
            "88.73095989227295\n"
          ],
          "name": "stdout"
        }
      ]
    },
    {
      "cell_type": "code",
      "metadata": {
        "id": "K3pUBUr24plX",
        "colab_type": "code",
        "outputId": "94fefc96-b96a-4a3e-f7a1-05d3920d3ab6",
        "colab": {
          "base_uri": "https://localhost:8080/",
          "height": 102
        }
      },
      "source": [
        "# best number of tress\n",
        "print_grid_search_metrics(Random_RF)"
      ],
      "execution_count": 0,
      "outputs": [
        {
          "output_type": "stream",
          "text": [
            "Best score: 0.668\n",
            "Best parameters set:\n",
            "\tmax_features: 'sqrt'\n",
            "\tmin_samples_leaf: 10\n",
            "\tn_estimators: 90\n"
          ],
          "name": "stdout"
        }
      ]
    },
    {
      "cell_type": "code",
      "metadata": {
        "id": "u9YDp-SqCn5h",
        "colab_type": "code",
        "colab": {}
      },
      "source": [
        ""
      ],
      "execution_count": 0,
      "outputs": []
    },
    {
      "cell_type": "markdown",
      "metadata": {
        "id": "sb6HkWJvCpAZ",
        "colab_type": "text"
      },
      "source": [
        "### Part 3.5: Use Bayesian Optimization to Find Optimal Hyperparameters"
      ]
    },
    {
      "cell_type": "code",
      "metadata": {
        "id": "lryANMQdC2Iz",
        "colab_type": "code",
        "outputId": "7a161e61-577c-44ee-fc8e-fd2886664a9b",
        "colab": {
          "base_uri": "https://localhost:8080/",
          "height": 241
        }
      },
      "source": [
        "!pip install bayesian-optimization\n",
        "from bayes_opt import BayesianOptimization\n",
        "from sklearn.model_selection import cross_val_score"
      ],
      "execution_count": 30,
      "outputs": [
        {
          "output_type": "stream",
          "text": [
            "Collecting bayesian-optimization\n",
            "  Downloading https://files.pythonhosted.org/packages/72/0c/173ac467d0a53e33e41b521e4ceba74a8ac7c7873d7b857a8fbdca88302d/bayesian-optimization-1.0.1.tar.gz\n",
            "Requirement already satisfied: numpy>=1.9.0 in /usr/local/lib/python3.6/dist-packages (from bayesian-optimization) (1.16.4)\n",
            "Requirement already satisfied: scipy>=0.14.0 in /usr/local/lib/python3.6/dist-packages (from bayesian-optimization) (1.3.0)\n",
            "Requirement already satisfied: scikit-learn>=0.18.0 in /usr/local/lib/python3.6/dist-packages (from bayesian-optimization) (0.21.2)\n",
            "Requirement already satisfied: joblib>=0.11 in /usr/local/lib/python3.6/dist-packages (from scikit-learn>=0.18.0->bayesian-optimization) (0.13.2)\n",
            "Building wheels for collected packages: bayesian-optimization\n",
            "  Building wheel for bayesian-optimization (setup.py) ... \u001b[?25l\u001b[?25hdone\n",
            "  Stored in directory: /root/.cache/pip/wheels/1d/0d/3b/6b9d4477a34b3905f246ff4e7acf6aafd4cc9b77d473629b77\n",
            "Successfully built bayesian-optimization\n",
            "Installing collected packages: bayesian-optimization\n",
            "Successfully installed bayesian-optimization-1.0.1\n"
          ],
          "name": "stdout"
        }
      ]
    },
    {
      "cell_type": "code",
      "metadata": {
        "id": "ciO8MdZyC2LX",
        "colab_type": "code",
        "colab": {}
      },
      "source": [
        "rf = RandomForestClassifier()\n",
        "def rf_cv(n_estimators, min_samples_leaf, max_features):\n",
        "    val = cross_val_score(\n",
        "        RandomForestClassifier(n_estimators=int(n_estimators),\n",
        "            min_samples_leaf=int(min_samples_leaf),\n",
        "            max_features=min(max_features, 0.999), # float\n",
        "            random_state=2\n",
        "        ),\n",
        "        X, y, scoring= 'accuracy', cv=5\n",
        "    ).mean()\n",
        "    return val"
      ],
      "execution_count": 0,
      "outputs": []
    },
    {
      "cell_type": "code",
      "metadata": {
        "id": "LSAhOTlQC2Oa",
        "colab_type": "code",
        "colab": {}
      },
      "source": [
        "rf_bo = BayesianOptimization(\n",
        "        rf_cv,\n",
        "        {'n_estimators': (10, 250),\n",
        "         'min_samples_leaf': (2, 25),\n",
        "         'max_features': (0.1, 0.999)\n",
        "        }\n",
        ")"
      ],
      "execution_count": 0,
      "outputs": []
    },
    {
      "cell_type": "code",
      "metadata": {
        "id": "J8YchI5ZG8qj",
        "colab_type": "code",
        "outputId": "2ddb846d-7e6c-4fb8-a926-760f077c484f",
        "colab": {
          "base_uri": "https://localhost:8080/",
          "height": 340
        }
      },
      "source": [
        "# Use time function to measure time elapsed\n",
        "import time\n",
        "start = time.time()\n",
        "\n",
        "num_iter = 10\n",
        "init_points = 5\n",
        "rf_bo.maximize(init_points=init_points,n_iter=num_iter)\n",
        "\n",
        "end = time.time()\n",
        "print(end - start)"
      ],
      "execution_count": 115,
      "outputs": [
        {
          "output_type": "stream",
          "text": [
            "|   iter    |  target   | max_fe... | min_sa... | n_esti... |\n",
            "-------------------------------------------------------------\n",
            "| \u001b[0m 1       \u001b[0m | \u001b[0m 0.6362  \u001b[0m | \u001b[0m 0.3618  \u001b[0m | \u001b[0m 3.493   \u001b[0m | \u001b[0m 12.25   \u001b[0m |\n",
            "| \u001b[95m 2       \u001b[0m | \u001b[95m 0.6646  \u001b[0m | \u001b[95m 0.1639  \u001b[0m | \u001b[95m 14.34   \u001b[0m | \u001b[95m 204.0   \u001b[0m |\n",
            "| \u001b[0m 3       \u001b[0m | \u001b[0m 0.6588  \u001b[0m | \u001b[0m 0.8935  \u001b[0m | \u001b[0m 23.97   \u001b[0m | \u001b[0m 148.7   \u001b[0m |\n",
            "| \u001b[0m 4       \u001b[0m | \u001b[0m 0.6475  \u001b[0m | \u001b[0m 0.8533  \u001b[0m | \u001b[0m 2.733   \u001b[0m | \u001b[0m 203.6   \u001b[0m |\n",
            "| \u001b[0m 5       \u001b[0m | \u001b[0m 0.6587  \u001b[0m | \u001b[0m 0.8141  \u001b[0m | \u001b[0m 22.84   \u001b[0m | \u001b[0m 240.9   \u001b[0m |\n",
            "| \u001b[0m 6       \u001b[0m | \u001b[0m 0.6551  \u001b[0m | \u001b[0m 0.999   \u001b[0m | \u001b[0m 25.0    \u001b[0m | \u001b[0m 10.0    \u001b[0m |\n",
            "| \u001b[0m 7       \u001b[0m | \u001b[0m 0.6591  \u001b[0m | \u001b[0m 0.9986  \u001b[0m | \u001b[0m 24.95   \u001b[0m | \u001b[0m 201.6   \u001b[0m |\n",
            "| \u001b[95m 8       \u001b[0m | \u001b[95m 0.667   \u001b[0m | \u001b[95m 0.1127  \u001b[0m | \u001b[95m 24.84   \u001b[0m | \u001b[95m 68.14   \u001b[0m |\n",
            "| \u001b[0m 9       \u001b[0m | \u001b[0m 0.6582  \u001b[0m | \u001b[0m 0.1071  \u001b[0m | \u001b[0m 2.027   \u001b[0m | \u001b[0m 108.4   \u001b[0m |\n",
            "| \u001b[0m 10      \u001b[0m | \u001b[0m 0.6656  \u001b[0m | \u001b[0m 0.1     \u001b[0m | \u001b[0m 24.63   \u001b[0m | \u001b[0m 101.6   \u001b[0m |\n",
            "| \u001b[0m 11      \u001b[0m | \u001b[0m 0.6632  \u001b[0m | \u001b[0m 0.107   \u001b[0m | \u001b[0m 5.121   \u001b[0m | \u001b[0m 250.0   \u001b[0m |\n",
            "| \u001b[0m 12      \u001b[0m | \u001b[0m 0.6659  \u001b[0m | \u001b[0m 0.1     \u001b[0m | \u001b[0m 25.0    \u001b[0m | \u001b[0m 35.28   \u001b[0m |\n",
            "| \u001b[0m 13      \u001b[0m | \u001b[0m 0.6664  \u001b[0m | \u001b[0m 0.1137  \u001b[0m | \u001b[0m 24.62   \u001b[0m | \u001b[0m 179.8   \u001b[0m |\n",
            "| \u001b[0m 14      \u001b[0m | \u001b[0m 0.6664  \u001b[0m | \u001b[0m 0.1197  \u001b[0m | \u001b[0m 24.87   \u001b[0m | \u001b[0m 216.6   \u001b[0m |\n",
            "| \u001b[0m 15      \u001b[0m | \u001b[0m 0.6664  \u001b[0m | \u001b[0m 0.1219  \u001b[0m | \u001b[0m 24.28   \u001b[0m | \u001b[0m 249.7   \u001b[0m |\n",
            "=============================================================\n",
            "831.7602977752686\n"
          ],
          "name": "stdout"
        }
      ]
    },
    {
      "cell_type": "code",
      "metadata": {
        "id": "FamARdE9G85U",
        "colab_type": "code",
        "outputId": "920d51ff-b47a-4d8a-a8cd-5b65433a0bac",
        "colab": {
          "base_uri": "https://localhost:8080/",
          "height": 102
        }
      },
      "source": [
        "rf_bo.max"
      ],
      "execution_count": 0,
      "outputs": [
        {
          "output_type": "execute_result",
          "data": {
            "text/plain": [
              "{'params': {'max_depth': 5.08900552171501,\n",
              "  'max_features': 0.18226085009058457,\n",
              "  'min_samples_split': 24.775708453366086,\n",
              "  'n_estimators': 174.04350508403547},\n",
              " 'target': 0.6683580716980221}"
            ]
          },
          "metadata": {
            "tags": []
          },
          "execution_count": 99
        }
      ]
    },
    {
      "cell_type": "markdown",
      "metadata": {
        "id": "CY7SS7S2p7x9",
        "colab_type": "text"
      },
      "source": [
        "## Part 4: Model Training --- LGBM"
      ]
    },
    {
      "cell_type": "code",
      "metadata": {
        "id": "y_520Iw7oTM1",
        "colab_type": "code",
        "colab": {}
      },
      "source": [
        "from sklearn.metrics import roc_auc_score, precision_recall_curve, roc_curve, average_precision_score\n",
        "from sklearn.model_selection import KFold, train_test_split\n",
        "from lightgbm import LGBMClassifier\n"
      ],
      "execution_count": 0,
      "outputs": []
    },
    {
      "cell_type": "markdown",
      "metadata": {
        "id": "hNZV9A7e9sLM",
        "colab_type": "text"
      },
      "source": [
        "### Part 4.1: Model Training and Selection"
      ]
    },
    {
      "cell_type": "code",
      "metadata": {
        "id": "ZIqNWCqUqBSY",
        "colab_type": "code",
        "colab": {}
      },
      "source": [
        "lgbm = LGBMClassifier(\n",
        "    n_estimators=400,\n",
        "    learning_rate=0.05,\n",
        "    num_leaves=50,\n",
        "    colsample_bytree=.8,\n",
        "    subsample=.9,\n",
        "    max_depth=7,\n",
        "    reg_alpha=.1,\n",
        "    reg_lambda=.1,\n",
        "    min_split_gain=.01,\n",
        "    min_child_weight=2,\n",
        "    silent=-1,\n",
        "    verbose=-1,\n",
        ")"
      ],
      "execution_count": 0,
      "outputs": []
    },
    {
      "cell_type": "markdown",
      "metadata": {
        "id": "_hf-fpqWx89V",
        "colab_type": "text"
      },
      "source": [
        "#### Fit the model"
      ]
    },
    {
      "cell_type": "code",
      "metadata": {
        "id": "shaABb2jqBVL",
        "colab_type": "code",
        "outputId": "0555092c-42c9-46ef-bb4c-810fd9f79cb9",
        "colab": {
          "base_uri": "https://localhost:8080/",
          "height": 187
        }
      },
      "source": [
        "lgbm.fit(X_train, y_train, \n",
        "    eval_set= [(X_train, y_train), (X_test, y_test)], \n",
        "    eval_metric='auc', verbose=100, early_stopping_rounds=30  #30\n",
        ")\n"
      ],
      "execution_count": 28,
      "outputs": [
        {
          "output_type": "stream",
          "text": [
            "Training until validation scores don't improve for 30 rounds.\n",
            "Early stopping, best iteration is:\n",
            "[53]\ttraining's binary_logloss: 0.601406\ttraining's auc: 0.737307\tvalid_1's binary_logloss: 0.619088\tvalid_1's auc: 0.688686\n"
          ],
          "name": "stdout"
        },
        {
          "output_type": "execute_result",
          "data": {
            "text/plain": [
              "LGBMClassifier(boosting_type='gbdt', class_weight=None, colsample_bytree=0.8,\n",
              "               importance_type='split', learning_rate=0.05, max_depth=7,\n",
              "               min_child_samples=20, min_child_weight=2, min_split_gain=0.01,\n",
              "               n_estimators=400, n_jobs=-1, num_leaves=50, objective=None,\n",
              "               random_state=None, reg_alpha=0.1, reg_lambda=0.1, silent=-1,\n",
              "               subsample=0.9, subsample_for_bin=200000, subsample_freq=0,\n",
              "               verbose=-1)"
            ]
          },
          "metadata": {
            "tags": []
          },
          "execution_count": 28
        }
      ]
    },
    {
      "cell_type": "code",
      "metadata": {
        "id": "R4VU7F2UqBYi",
        "colab_type": "code",
        "outputId": "1e4cf97c-cfbf-45cd-92b9-3dedbf762209",
        "colab": {
          "base_uri": "https://localhost:8080/",
          "height": 34
        }
      },
      "source": [
        "# Use 5-fold Cross Validation to get the accuracy # 0.6192\n",
        "cv_score = model_selection.cross_val_score(lgbm, X_train, y_train, cv=5)\n",
        "print('Model accuracy of LGBM is:',cv_score.mean())\n"
      ],
      "execution_count": 29,
      "outputs": [
        {
          "output_type": "stream",
          "text": [
            "Model accuracy of LGBM is: 0.656866550527722\n"
          ],
          "name": "stdout"
        }
      ]
    },
    {
      "cell_type": "markdown",
      "metadata": {
        "id": "3ef3GLDb9q5_",
        "colab_type": "text"
      },
      "source": [
        "### Part 4.2: Use Grid Search to Find Optimal Hyperparameters"
      ]
    },
    {
      "cell_type": "code",
      "metadata": {
        "id": "0QiAndme9zuO",
        "colab_type": "code",
        "outputId": "8c4eab64-9041-415d-ac62-0b483035a72e",
        "colab": {
          "base_uri": "https://localhost:8080/",
          "height": 34
        }
      },
      "source": [
        "# Possible hyperparamter options for LigntGBM\n",
        "# Choose the number of trees\n",
        "parameters = {\n",
        "    'n_estimators' : [100, 200, 300, 400],\n",
        "    'learning_rate' : [0.03, 0.05, 0.08, 0.1, 0.2],\n",
        "    'num_leaves' : [30, 50, 80],\n",
        "    'max_depth': [5, 10, 20, 30]\n",
        "}\n",
        "\n",
        "# Use time function to measure time elapsed\n",
        "import time\n",
        "start = time.time()\n",
        "\n",
        "Grid_LGBM = GridSearchCV(LGBMClassifier(),parameters, cv=5)\n",
        "Grid_LGBM.fit(X_train, y_train)\n",
        "\n",
        "\n",
        "end = time.time()\n",
        "print(end - start)"
      ],
      "execution_count": 0,
      "outputs": [
        {
          "output_type": "stream",
          "text": [
            "940.9568140506744\n"
          ],
          "name": "stdout"
        }
      ]
    },
    {
      "cell_type": "code",
      "metadata": {
        "id": "bm-EqglS90Ja",
        "colab_type": "code",
        "outputId": "39887ab4-fab3-4988-c862-d3b841752a84",
        "colab": {
          "base_uri": "https://localhost:8080/",
          "height": 119
        }
      },
      "source": [
        "# best number of tress\n",
        "print_grid_search_metrics(Grid_LGBM)"
      ],
      "execution_count": 0,
      "outputs": [
        {
          "output_type": "stream",
          "text": [
            "Best score: 0.668\n",
            "Best parameters set:\n",
            "\tlearning_rate: 0.03\n",
            "\tmax_depth: 5\n",
            "\tn_estimators: 300\n",
            "\tnum_leaves: 30\n"
          ],
          "name": "stdout"
        }
      ]
    },
    {
      "cell_type": "markdown",
      "metadata": {
        "id": "9VAmXdmtZQPJ",
        "colab_type": "text"
      },
      "source": [
        "### Part 4.3: Use Random Search to Find Optimal Hyperparameters"
      ]
    },
    {
      "cell_type": "code",
      "metadata": {
        "id": "xqiV_kVuE4CR",
        "colab_type": "code",
        "colab": {}
      },
      "source": [
        "# 4.3: Use Random Search to Find Optimal Hyperparameters\n",
        "from sklearn.model_selection import RandomizedSearchCV\n",
        "\n",
        "# helper function for printing out grid search results \n",
        "def print_random_search_metrics(rs):\n",
        "    print (\"Best score: %0.3f\" % rs.best_score_)\n",
        "    print (\"Best parameters set:\")\n",
        "    best_parameters = rs.best_params_\n",
        "    for param_name in sorted(parameters.keys()):\n",
        "        print(\"\\t%s: %r\" % (param_name, best_parameters[param_name]))\n",
        "\n",
        "\n"
      ],
      "execution_count": 0,
      "outputs": []
    },
    {
      "cell_type": "code",
      "metadata": {
        "id": "XverDCmTE4Lm",
        "colab_type": "code",
        "outputId": "0c87d203-4e92-4604-8f7c-9bdf268c0311",
        "colab": {
          "base_uri": "https://localhost:8080/",
          "height": 34
        }
      },
      "source": [
        "# Possible hyperparamter options for LightGBM\n",
        "# Choose the number of trees\n",
        "parameters = {\n",
        "    'n_estimators' : [60, 80, 100, 200, 300],\n",
        "    'learning_rate' : [0.03, 0.05, 0.08, 0.1, 0.2],\n",
        "    'num_leaves' : [20, 30, 50],\n",
        "    'max_depth': [10, 20, 30]\n",
        "}\n",
        "\n",
        "# Use time function to measure time elapsed\n",
        "import time\n",
        "start = time.time()\n",
        "\n",
        "Random_LGBM = RandomizedSearchCV(LGBMClassifier(),parameters, cv=5)\n",
        "Random_LGBM.fit(X_train, y_train)\n",
        "\n",
        "end = time.time()\n",
        "print(end - start)"
      ],
      "execution_count": 0,
      "outputs": [
        {
          "output_type": "stream",
          "text": [
            "18.503878831863403\n"
          ],
          "name": "stdout"
        }
      ]
    },
    {
      "cell_type": "code",
      "metadata": {
        "id": "RVnw9T0CE4Qi",
        "colab_type": "code",
        "outputId": "24a13ec2-d117-4b98-8f8e-29310e078347",
        "colab": {
          "base_uri": "https://localhost:8080/",
          "height": 119
        }
      },
      "source": [
        "# best number of tress\n",
        "print_grid_search_metrics(Random_LGBM)"
      ],
      "execution_count": 0,
      "outputs": [
        {
          "output_type": "stream",
          "text": [
            "Best score: 0.667\n",
            "Best parameters set:\n",
            "\tlearning_rate: 0.05\n",
            "\tmax_depth: 30\n",
            "\tn_estimators: 60\n",
            "\tnum_leaves: 50\n"
          ],
          "name": "stdout"
        }
      ]
    },
    {
      "cell_type": "markdown",
      "metadata": {
        "id": "mYsvtn7zZWPi",
        "colab_type": "text"
      },
      "source": [
        "### Part 4.4: Use Bayesian Optimazition to Find Optimal Hyperparameters"
      ]
    },
    {
      "cell_type": "code",
      "metadata": {
        "id": "22e7bhr_J98B",
        "colab_type": "code",
        "colab": {}
      },
      "source": [
        "from bayes_opt import BayesianOptimization\n",
        "from sklearn.model_selection import cross_val_score"
      ],
      "execution_count": 0,
      "outputs": []
    },
    {
      "cell_type": "code",
      "metadata": {
        "id": "btG44LyyZbfd",
        "colab_type": "code",
        "colab": {}
      },
      "source": [
        "LGBM = LGBMClassifier()\n",
        "def LGBM_cv(n_estimators, learning_rate, num_leaves, max_depth,lambda_l1):\n",
        "    val = cross_val_score(\n",
        "        LGBMClassifier(n_estimators = int(n_estimators),\n",
        "            learning_rate = learning_rate,\n",
        "            num_leaves = int(num_leaves),\n",
        "            max_depth = int(max_depth),\n",
        "            lambda_l1 = lambda_l1,\n",
        "            random_state = 2\n",
        "        ),\n",
        "        X, y, scoring= 'accuracy', cv=5\n",
        "    ).mean()\n",
        "    return val"
      ],
      "execution_count": 0,
      "outputs": []
    },
    {
      "cell_type": "code",
      "metadata": {
        "id": "6C5ulym3Zbmy",
        "colab_type": "code",
        "colab": {}
      },
      "source": [
        "LGBM_bo = BayesianOptimization(\n",
        "        LGBM_cv,\n",
        "        {'n_estimators': (10, 250),\n",
        "         'learning_rate' : (0.01, 2.0),\n",
        "         'num_leaves': (5, 130),\n",
        "         'max_depth': (4, 20),\n",
        "         'lambda_l1': (0, 6)}\n",
        ")"
      ],
      "execution_count": 0,
      "outputs": []
    },
    {
      "cell_type": "code",
      "metadata": {
        "id": "PFJdB1hUZbul",
        "colab_type": "code",
        "outputId": "ee76b2be-434a-4495-b590-2ab24b410759",
        "colab": {
          "base_uri": "https://localhost:8080/",
          "height": 360
        }
      },
      "source": [
        "# Use time function to measure time elapsed\n",
        "import time\n",
        "start = time.time()\n",
        "\n",
        "num_iter = 10\n",
        "init_points = 5\n",
        "LGBM_bo.maximize(init_points=init_points,n_iter=num_iter)\n",
        "\n",
        "end = time.time()\n",
        "print(end - start)"
      ],
      "execution_count": 0,
      "outputs": [
        {
          "output_type": "stream",
          "text": [
            "|   iter    |  target   | lambda_l1 | learni... | max_depth | n_esti... | num_le... |\n",
            "-------------------------------------------------------------------------------------\n",
            "| \u001b[0m 1       \u001b[0m | \u001b[0m 0.6495  \u001b[0m | \u001b[0m 1.961   \u001b[0m | \u001b[0m 0.1331  \u001b[0m | \u001b[0m 7.443   \u001b[0m | \u001b[0m 188.6   \u001b[0m | \u001b[0m 31.95   \u001b[0m |\n",
            "| \u001b[0m 2       \u001b[0m | \u001b[0m 0.5554  \u001b[0m | \u001b[0m 1.387   \u001b[0m | \u001b[0m 1.985   \u001b[0m | \u001b[0m 15.65   \u001b[0m | \u001b[0m 27.77   \u001b[0m | \u001b[0m 55.66   \u001b[0m |\n",
            "| \u001b[0m 3       \u001b[0m | \u001b[0m 0.5164  \u001b[0m | \u001b[0m 1.74    \u001b[0m | \u001b[0m 1.991   \u001b[0m | \u001b[0m 6.956   \u001b[0m | \u001b[0m 70.04   \u001b[0m | \u001b[0m 82.4    \u001b[0m |\n",
            "| \u001b[0m 4       \u001b[0m | \u001b[0m 0.5969  \u001b[0m | \u001b[0m 0.2214  \u001b[0m | \u001b[0m 1.075   \u001b[0m | \u001b[0m 5.229   \u001b[0m | \u001b[0m 109.6   \u001b[0m | \u001b[0m 123.1   \u001b[0m |\n",
            "| \u001b[0m 5       \u001b[0m | \u001b[0m 0.6251  \u001b[0m | \u001b[0m 3.696   \u001b[0m | \u001b[0m 0.8189  \u001b[0m | \u001b[0m 13.79   \u001b[0m | \u001b[0m 57.76   \u001b[0m | \u001b[0m 54.53   \u001b[0m |\n",
            "| \u001b[95m 6       \u001b[0m | \u001b[95m 0.662   \u001b[0m | \u001b[95m 6.0     \u001b[0m | \u001b[95m 0.01    \u001b[0m | \u001b[95m 20.0    \u001b[0m | \u001b[95m 250.0   \u001b[0m | \u001b[95m 130.0   \u001b[0m |\n",
            "| \u001b[0m 7       \u001b[0m | \u001b[0m 0.5742  \u001b[0m | \u001b[0m 6.0     \u001b[0m | \u001b[0m 0.01    \u001b[0m | \u001b[0m 4.0     \u001b[0m | \u001b[0m 10.0    \u001b[0m | \u001b[0m 5.0     \u001b[0m |\n",
            "| \u001b[95m 8       \u001b[0m | \u001b[95m 0.6666  \u001b[0m | \u001b[95m 6.0     \u001b[0m | \u001b[95m 0.01    \u001b[0m | \u001b[95m 20.0    \u001b[0m | \u001b[95m 250.0   \u001b[0m | \u001b[95m 5.0     \u001b[0m |\n",
            "| \u001b[0m 9       \u001b[0m | \u001b[0m 0.4921  \u001b[0m | \u001b[0m 0.0     \u001b[0m | \u001b[0m 2.0     \u001b[0m | \u001b[0m 20.0    \u001b[0m | \u001b[0m 114.6   \u001b[0m | \u001b[0m 5.0     \u001b[0m |\n",
            "| \u001b[0m 10      \u001b[0m | \u001b[0m 0.6625  \u001b[0m | \u001b[0m 6.0     \u001b[0m | \u001b[0m 0.01    \u001b[0m | \u001b[0m 20.0    \u001b[0m | \u001b[0m 178.8   \u001b[0m | \u001b[0m 130.0   \u001b[0m |\n",
            "| \u001b[0m 11      \u001b[0m | \u001b[0m 0.6638  \u001b[0m | \u001b[0m 0.0     \u001b[0m | \u001b[0m 0.01    \u001b[0m | \u001b[0m 4.0     \u001b[0m | \u001b[0m 250.0   \u001b[0m | \u001b[0m 68.13   \u001b[0m |\n",
            "| \u001b[0m 12      \u001b[0m | \u001b[0m 0.6627  \u001b[0m | \u001b[0m 6.0     \u001b[0m | \u001b[0m 0.01    \u001b[0m | \u001b[0m 20.0    \u001b[0m | \u001b[0m 147.6   \u001b[0m | \u001b[0m 77.09   \u001b[0m |\n",
            "| \u001b[95m 13      \u001b[0m | \u001b[95m 0.667   \u001b[0m | \u001b[95m 6.0     \u001b[0m | \u001b[95m 0.01    \u001b[0m | \u001b[95m 4.0     \u001b[0m | \u001b[95m 216.9   \u001b[0m | \u001b[95m 130.0   \u001b[0m |\n",
            "| \u001b[0m 14      \u001b[0m | \u001b[0m 0.663   \u001b[0m | \u001b[0m 6.0     \u001b[0m | \u001b[0m 0.01    \u001b[0m | \u001b[0m 20.0    \u001b[0m | \u001b[0m 219.2   \u001b[0m | \u001b[0m 63.12   \u001b[0m |\n",
            "| \u001b[0m 15      \u001b[0m | \u001b[0m 0.5144  \u001b[0m | \u001b[0m 6.0     \u001b[0m | \u001b[0m 2.0     \u001b[0m | \u001b[0m 4.0     \u001b[0m | \u001b[0m 250.0   \u001b[0m | \u001b[0m 5.0     \u001b[0m |\n",
            "=====================================================================================\n",
            "133.16940212249756\n"
          ],
          "name": "stdout"
        }
      ]
    },
    {
      "cell_type": "code",
      "metadata": {
        "id": "b7dVBwN6al5Y",
        "colab_type": "code",
        "outputId": "4bb22a0d-6550-46e5-ff11-2e8aada7a970",
        "colab": {
          "base_uri": "https://localhost:8080/",
          "height": 119
        }
      },
      "source": [
        "LGBM_bo.max"
      ],
      "execution_count": 0,
      "outputs": [
        {
          "output_type": "execute_result",
          "data": {
            "text/plain": [
              "{'params': {'lambda_l1': 6.0,\n",
              "  'learning_rate': 0.01,\n",
              "  'max_depth': 4.0,\n",
              "  'n_estimators': 216.90519644528626,\n",
              "  'num_leaves': 130.0},\n",
              " 'target': 0.6669551420508177}"
            ]
          },
          "metadata": {
            "tags": []
          },
          "execution_count": 77
        }
      ]
    },
    {
      "cell_type": "markdown",
      "metadata": {
        "id": "y5YwWBViE4wG",
        "colab_type": "text"
      },
      "source": [
        "## Part 5: Model Training --- GBDT"
      ]
    },
    {
      "cell_type": "code",
      "metadata": {
        "id": "yDtBMgUkFAPa",
        "colab_type": "code",
        "colab": {}
      },
      "source": [
        "from sklearn.ensemble import GradientBoostingClassifier"
      ],
      "execution_count": 0,
      "outputs": []
    },
    {
      "cell_type": "markdown",
      "metadata": {
        "id": "nft4iS8VFMMb",
        "colab_type": "text"
      },
      "source": [
        "### Part 5.1: Model Training and Selection\n",
        "\n"
      ]
    },
    {
      "cell_type": "code",
      "metadata": {
        "id": "FbaS22YEFASQ",
        "colab_type": "code",
        "outputId": "17148d48-3625-4bc0-d747-54c18e4689ba",
        "colab": {
          "base_uri": "https://localhost:8080/",
          "height": 187
        }
      },
      "source": [
        "gbr = GradientBoostingClassifier(n_estimators=300, max_depth=2, min_samples_split=2, learning_rate=0.1)\n",
        "gbr.fit(X_train, y_train)"
      ],
      "execution_count": 32,
      "outputs": [
        {
          "output_type": "execute_result",
          "data": {
            "text/plain": [
              "GradientBoostingClassifier(criterion='friedman_mse', init=None,\n",
              "                           learning_rate=0.1, loss='deviance', max_depth=2,\n",
              "                           max_features=None, max_leaf_nodes=None,\n",
              "                           min_impurity_decrease=0.0, min_impurity_split=None,\n",
              "                           min_samples_leaf=1, min_samples_split=2,\n",
              "                           min_weight_fraction_leaf=0.0, n_estimators=300,\n",
              "                           n_iter_no_change=None, presort='auto',\n",
              "                           random_state=None, subsample=1.0, tol=0.0001,\n",
              "                           validation_fraction=0.1, verbose=0,\n",
              "                           warm_start=False)"
            ]
          },
          "metadata": {
            "tags": []
          },
          "execution_count": 32
        }
      ]
    },
    {
      "cell_type": "code",
      "metadata": {
        "id": "Yzcj2TkJGAFs",
        "colab_type": "code",
        "outputId": "d6d3001f-8835-4fab-fef6-02801cb31263",
        "colab": {
          "base_uri": "https://localhost:8080/",
          "height": 34
        }
      },
      "source": [
        "# Prediction of test data\n",
        "gbr.predict(X_test)"
      ],
      "execution_count": 33,
      "outputs": [
        {
          "output_type": "execute_result",
          "data": {
            "text/plain": [
              "array([0., 0., 0., ..., 0., 0., 1.])"
            ]
          },
          "metadata": {
            "tags": []
          },
          "execution_count": 33
        }
      ]
    },
    {
      "cell_type": "code",
      "metadata": {
        "id": "qR9pmVEoGE0v",
        "colab_type": "code",
        "outputId": "b1f1f196-1a6b-4e89-9ab4-7d38c57a613f",
        "colab": {
          "base_uri": "https://localhost:8080/",
          "height": 34
        }
      },
      "source": [
        "# Accuracy of test data\n",
        "gbr.score(X_test, y_test) "
      ],
      "execution_count": 34,
      "outputs": [
        {
          "output_type": "execute_result",
          "data": {
            "text/plain": [
              "0.6745049504950495"
            ]
          },
          "metadata": {
            "tags": []
          },
          "execution_count": 34
        }
      ]
    },
    {
      "cell_type": "code",
      "metadata": {
        "id": "0TBFIZWKFAbw",
        "colab_type": "code",
        "colab": {}
      },
      "source": [
        ""
      ],
      "execution_count": 0,
      "outputs": []
    },
    {
      "cell_type": "markdown",
      "metadata": {
        "id": "WO3EqFZP6gzR",
        "colab_type": "text"
      },
      "source": [
        "### Part 5.2: Use Grid Search to Find Optimal Hyperparameters\n"
      ]
    },
    {
      "cell_type": "code",
      "metadata": {
        "id": "1G_6zyTSNHKo",
        "colab_type": "code",
        "outputId": "037a3668-7031-444d-8d1b-42b2f6aafe4b",
        "colab": {
          "base_uri": "https://localhost:8080/",
          "height": 34
        }
      },
      "source": [
        "# Possible hyperparamter options for GBDT\n",
        "# Choose the number of trees\n",
        "parameters = {\n",
        "    'n_estimators' : [100],\n",
        "    'learning_rate' : [0.1],\n",
        "    'min_samples_split' :[2],\n",
        "    'max_depth': [2]\n",
        "\n",
        "}\n",
        "\n",
        "# Use time function to measure time elapsed\n",
        "import time\n",
        "start = time.time()\n",
        "\n",
        "Grid_GBDT = GridSearchCV(GradientBoostingClassifier(),parameters, cv=3)\n",
        "Grid_GBDT.fit(X_train, y_train)\n",
        "\n",
        "\n",
        "end = time.time()\n",
        "print(end - start)"
      ],
      "execution_count": 45,
      "outputs": [
        {
          "output_type": "stream",
          "text": [
            "11.35716199874878\n"
          ],
          "name": "stdout"
        }
      ]
    },
    {
      "cell_type": "code",
      "metadata": {
        "id": "a94Sew9LNHNO",
        "colab_type": "code",
        "colab": {
          "base_uri": "https://localhost:8080/",
          "height": 119
        },
        "outputId": "74d43c09-9fef-485e-d403-6ee8a4705454"
      },
      "source": [
        "# best number of tress\n",
        "print_grid_search_metrics(Grid_GBDT)"
      ],
      "execution_count": 46,
      "outputs": [
        {
          "output_type": "stream",
          "text": [
            "Best score: 0.668\n",
            "Best parameters set:\n",
            "\tlearning_rate: 0.1\n",
            "\tmax_depth: 2\n",
            "\tmin_samples_split: 2\n",
            "\tn_estimators: 100\n"
          ],
          "name": "stdout"
        }
      ]
    },
    {
      "cell_type": "markdown",
      "metadata": {
        "id": "VU7tbQAMNiQw",
        "colab_type": "text"
      },
      "source": [
        "### Part 5.3: Use Random Search to Find Optimal Hyperparameters"
      ]
    },
    {
      "cell_type": "code",
      "metadata": {
        "id": "bOTPalAFNHQI",
        "colab_type": "code",
        "colab": {}
      },
      "source": [
        "# 5.3: Use Random Search to Find Optimal Hyperparameters\n",
        "from sklearn.model_selection import RandomizedSearchCV\n",
        "\n",
        "# helper function for printing out grid search results \n",
        "def print_random_search_metrics(rs):\n",
        "    print (\"Best score: %0.3f\" % rs.best_score_)\n",
        "    print (\"Best parameters set:\")\n",
        "    best_parameters = rs.best_params_\n",
        "    for param_name in sorted(parameters.keys()):\n",
        "        print(\"\\t%s: %r\" % (param_name, best_parameters[param_name]))\n",
        "\n",
        "\n"
      ],
      "execution_count": 0,
      "outputs": []
    },
    {
      "cell_type": "code",
      "metadata": {
        "id": "p5jiqpQoNHZv",
        "colab_type": "code",
        "outputId": "7010b93d-ddaf-490e-dd28-1731994aaec5",
        "colab": {
          "base_uri": "https://localhost:8080/",
          "height": 34
        }
      },
      "source": [
        "# Possible hyperparamter options for LightGBM\n",
        "# Choose the number of trees\n",
        "parameters = {\n",
        "    'n_estimators' : [60, 80, 100, 200, 300],\n",
        "    'learning_rate' : [0.03, 0.05, 0.08, 0.1, 0.2],\n",
        "    'min_samples_split' :[2, 25],\n",
        "    'max_depth': [2, 5, 8]\n",
        "        \n",
        "}\n",
        "\n",
        "# Use time function to measure time elapsed\n",
        "import time\n",
        "start = time.time()\n",
        "\n",
        "Random_GBDT = RandomizedSearchCV(GradientBoostingClassifier(),parameters, cv=5)\n",
        "Random_GBDT.fit(X_train, y_train)\n",
        "\n",
        "end = time.time()\n",
        "print(end - start)"
      ],
      "execution_count": 36,
      "outputs": [
        {
          "output_type": "stream",
          "text": [
            "472.7206542491913\n"
          ],
          "name": "stdout"
        }
      ]
    },
    {
      "cell_type": "code",
      "metadata": {
        "id": "KzPwqw9SN47s",
        "colab_type": "code",
        "outputId": "57df35e9-920b-40a1-b453-aa4cde694515",
        "colab": {
          "base_uri": "https://localhost:8080/",
          "height": 119
        }
      },
      "source": [
        "# best number of tress\n",
        "print_grid_search_metrics(Random_GBDT)"
      ],
      "execution_count": 0,
      "outputs": [
        {
          "output_type": "stream",
          "text": [
            "Best score: 0.667\n",
            "Best parameters set:\n",
            "\tlearning_rate: 0.08\n",
            "\tmax_depth: 2\n",
            "\tmin_samples_split: 25\n",
            "\tn_estimators: 60\n"
          ],
          "name": "stdout"
        }
      ]
    },
    {
      "cell_type": "markdown",
      "metadata": {
        "id": "nN-gpBpiN5so",
        "colab_type": "text"
      },
      "source": [
        "### Part 5.4: Use Bayesian Optimazition to Find Optimal Hyperparameters"
      ]
    },
    {
      "cell_type": "code",
      "metadata": {
        "id": "ZDNCbWoVN-KH",
        "colab_type": "code",
        "colab": {}
      },
      "source": [
        "from bayes_opt import BayesianOptimization\n",
        "from sklearn.model_selection import cross_val_score"
      ],
      "execution_count": 0,
      "outputs": []
    },
    {
      "cell_type": "code",
      "metadata": {
        "id": "D33W9SDJN-Mu",
        "colab_type": "code",
        "colab": {}
      },
      "source": [
        "GBDT = GradientBoostingClassifier()\n",
        "def GBDT_cv(n_estimators, learning_rate, min_samples_split, max_depth):\n",
        "    val = cross_val_score(\n",
        "        GradientBoostingClassifier(n_estimators = int(n_estimators),\n",
        "            learning_rate = learning_rate,\n",
        "            min_samples_split=int(min_samples_split),\n",
        "            max_depth = int(max_depth),\n",
        "            random_state = 2\n",
        "        ),\n",
        "        X, y, scoring= 'accuracy', cv=5\n",
        "    ).mean()\n",
        "    return val"
      ],
      "execution_count": 0,
      "outputs": []
    },
    {
      "cell_type": "code",
      "metadata": {
        "id": "AXWsTciKN-QH",
        "colab_type": "code",
        "colab": {}
      },
      "source": [
        "GBDT_bo = BayesianOptimization(\n",
        "        GBDT_cv,\n",
        "        {'n_estimators': (100, 300),\n",
        "         'learning_rate' : (0.01, 0.2),\n",
        "         'min_samples_split' :(2, 25),\n",
        "         'max_depth': (2, 10)\n",
        "        }\n",
        ")"
      ],
      "execution_count": 0,
      "outputs": []
    },
    {
      "cell_type": "code",
      "metadata": {
        "id": "9AgxHhXgOIs3",
        "colab_type": "code",
        "outputId": "4face943-c7ae-4b31-b2d3-9802c3aeb2b0",
        "colab": {
          "base_uri": "https://localhost:8080/",
          "height": 340
        }
      },
      "source": [
        "# Use time function to measure time elapsed\n",
        "import time\n",
        "start = time.time()\n",
        "\n",
        "num_iter = 10\n",
        "init_points = 5\n",
        "GBDT_bo.maximize(init_points=init_points,n_iter=num_iter)\n",
        "\n",
        "end = time.time()\n",
        "print(end - start)"
      ],
      "execution_count": 0,
      "outputs": [
        {
          "output_type": "stream",
          "text": [
            "|   iter    |  target   | learni... | max_depth | min_sa... | n_esti... |\n",
            "-------------------------------------------------------------------------\n",
            "| \u001b[0m 20      \u001b[0m | \u001b[0m 0.6601  \u001b[0m | \u001b[0m 0.1183  \u001b[0m | \u001b[0m 3.98    \u001b[0m | \u001b[0m 24.39   \u001b[0m | \u001b[0m 190.4   \u001b[0m |\n",
            "| \u001b[0m 21      \u001b[0m | \u001b[0m 0.6601  \u001b[0m | \u001b[0m 0.0304  \u001b[0m | \u001b[0m 5.925   \u001b[0m | \u001b[0m 20.28   \u001b[0m | \u001b[0m 222.8   \u001b[0m |\n",
            "| \u001b[0m 22      \u001b[0m | \u001b[0m 0.6614  \u001b[0m | \u001b[0m 0.06898 \u001b[0m | \u001b[0m 4.586   \u001b[0m | \u001b[0m 18.85   \u001b[0m | \u001b[0m 146.2   \u001b[0m |\n",
            "| \u001b[0m 23      \u001b[0m | \u001b[0m 0.6526  \u001b[0m | \u001b[0m 0.08733 \u001b[0m | \u001b[0m 5.392   \u001b[0m | \u001b[0m 21.93   \u001b[0m | \u001b[0m 211.0   \u001b[0m |\n",
            "| \u001b[0m 24      \u001b[0m | \u001b[0m 0.6645  \u001b[0m | \u001b[0m 0.04976 \u001b[0m | \u001b[0m 2.35    \u001b[0m | \u001b[0m 24.66   \u001b[0m | \u001b[0m 166.9   \u001b[0m |\n",
            "| \u001b[0m 25      \u001b[0m | \u001b[0m 0.6535  \u001b[0m | \u001b[0m 0.02413 \u001b[0m | \u001b[0m 9.515   \u001b[0m | \u001b[0m 2.007   \u001b[0m | \u001b[0m 139.0   \u001b[0m |\n",
            "| \u001b[0m 26      \u001b[0m | \u001b[0m 0.664   \u001b[0m | \u001b[0m 0.09761 \u001b[0m | \u001b[0m 2.075   \u001b[0m | \u001b[0m 24.96   \u001b[0m | \u001b[0m 266.0   \u001b[0m |\n",
            "| \u001b[0m 27      \u001b[0m | \u001b[0m 0.6654  \u001b[0m | \u001b[0m 0.02553 \u001b[0m | \u001b[0m 2.094   \u001b[0m | \u001b[0m 12.34   \u001b[0m | \u001b[0m 132.1   \u001b[0m |\n",
            "| \u001b[0m 28      \u001b[0m | \u001b[0m 0.6557  \u001b[0m | \u001b[0m 0.01    \u001b[0m | \u001b[0m 9.445   \u001b[0m | \u001b[0m 25.0    \u001b[0m | \u001b[0m 283.3   \u001b[0m |\n",
            "| \u001b[0m 29      \u001b[0m | \u001b[0m 0.6644  \u001b[0m | \u001b[0m 0.0751  \u001b[0m | \u001b[0m 2.013   \u001b[0m | \u001b[0m 2.319   \u001b[0m | \u001b[0m 153.6   \u001b[0m |\n",
            "| \u001b[0m 30      \u001b[0m | \u001b[0m 0.6455  \u001b[0m | \u001b[0m 0.05067 \u001b[0m | \u001b[0m 9.923   \u001b[0m | \u001b[0m 24.97   \u001b[0m | \u001b[0m 238.6   \u001b[0m |\n",
            "| \u001b[0m 31      \u001b[0m | \u001b[0m 0.6168  \u001b[0m | \u001b[0m 0.1351  \u001b[0m | \u001b[0m 9.448   \u001b[0m | \u001b[0m 2.356   \u001b[0m | \u001b[0m 299.6   \u001b[0m |\n",
            "| \u001b[0m 32      \u001b[0m | \u001b[0m 0.6643  \u001b[0m | \u001b[0m 0.04323 \u001b[0m | \u001b[0m 2.032   \u001b[0m | \u001b[0m 14.63   \u001b[0m | \u001b[0m 294.7   \u001b[0m |\n",
            "| \u001b[0m 33      \u001b[0m | \u001b[0m 0.6635  \u001b[0m | \u001b[0m 0.1374  \u001b[0m | \u001b[0m 2.115   \u001b[0m | \u001b[0m 24.95   \u001b[0m | \u001b[0m 135.2   \u001b[0m |\n",
            "| \u001b[95m 34      \u001b[0m | \u001b[95m 0.6684  \u001b[0m | \u001b[95m 0.01    \u001b[0m | \u001b[95m 2.0     \u001b[0m | \u001b[95m 14.22   \u001b[0m | \u001b[95m 106.0   \u001b[0m |\n",
            "=========================================================================\n",
            "2270.5618958473206\n"
          ],
          "name": "stdout"
        }
      ]
    },
    {
      "cell_type": "code",
      "metadata": {
        "id": "njqHH8yAOLvz",
        "colab_type": "code",
        "outputId": "b7bea304-a0d2-4857-b1f7-2f84cd6c598d",
        "colab": {
          "base_uri": "https://localhost:8080/",
          "height": 102
        }
      },
      "source": [
        "GBDT_bo.max"
      ],
      "execution_count": 0,
      "outputs": [
        {
          "output_type": "execute_result",
          "data": {
            "text/plain": [
              "{'params': {'learning_rate': 0.01,\n",
              "  'max_depth': 2.000000029868887,\n",
              "  'min_samples_split': 14.215169189609608,\n",
              "  'n_estimators': 106.04429937904912},\n",
              " 'target': 0.6684405969713871}"
            ]
          },
          "metadata": {
            "tags": []
          },
          "execution_count": 104
        }
      ]
    }
  ]
}